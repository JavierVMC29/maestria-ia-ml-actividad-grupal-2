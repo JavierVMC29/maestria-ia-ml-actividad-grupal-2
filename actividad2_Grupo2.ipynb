{
  "cells": [
    {
      "cell_type": "markdown",
      "metadata": {
        "id": "Z7G7QOGC7T6n"
      },
      "source": [
        "# Tarea: Clasificación técnica mediante SVM y Árboles de Decisión\n",
        "\n",
        "**Equipo 2:** \n",
        "\n",
        "JAVIER ALEJANDRO VEGA MOLINA\n",
        "\n",
        "SANTIAGO GERARDO SALAZAR RUIZ\n",
        "\n",
        "FABRICIO ARTURO BERMUDEZ ZAMBRANO\n",
        "\n",
        "FREDY RICARDO CRUZ SANTANA\n",
        "\n",
        "---\n",
        "\n",
        "### Parte 1: Comprensión del Problema\n",
        "\n",
        "**1. ¿Qué problema estamos resolviendo?**\n",
        "Estamos resolviendo la **detección proactiva de fallos** en un sistema de archivos distribuido (Hadoop HDFS). El objetivo es construir un modelo que analice las secuencias de logs del sistema y prediga si un componente (un \"bloque\" de datos) va a fallar, *antes* de que ocurra el fallo.\n",
        "\n",
        "**2. ¿Qué tipo de datos se necesitan?**\n",
        "Se necesitan dos tipos de datos:\n",
        "* **Logs crudos del sistema (`HDFS.log`):** Registros de eventos con marca de tiempo, generados por el servidor.\n",
        "* **Etiquetas de anomalías (`anomaly_label.csv`):** Un archivo que nos dice qué secuencias de logs (agrupadas por `Block_ID`) corresponden a un funcionamiento \"Normal\" y cuáles a una \"Anomalía\" (fallo).\n",
        "\n",
        "**3. ¿Cómo evaluaremos el éxito del modelo?**\n",
        "Los fallos son eventos raros, por lo que el dataset estará **altamente desbalanceado**. Por lo tanto, la \"Accuracy\" (exactitud) no es una buena métrica. Usaremos:\n",
        "* **Precision (Precisión):** Mide la calidad de nuestras alertas. De todas las que generamos, ¿cuántas fueron fallos reales?\n",
        "* **Recall (Sensibilidad):** Mide nuestra capacidad de detectar fallos. De todos los fallos que ocurrieron, ¿cuántos detectamos?\n",
        "* **F1-Score:** La media armónica de Precision y Recall. Es nuestra métrica principal.\n",
        "* **Matriz de Confusión:** Para ver visualmente los Falsos Positivos y Falsos Negativos.\n"
      ]
    },
    {
      "cell_type": "code",
      "execution_count": null,
      "metadata": {
        "id": "rhDqMoEBMTTF"
      },
      "outputs": [
        {
          "name": "stdout",
          "output_type": "stream",
          "text": [
            "Requirement already satisfied: numpy in c:\\users\\javie\\.pyenv\\pyenv-win\\versions\\3.13.5\\lib\\site-packages (2.3.4)\n",
            "Requirement already satisfied: pandas in c:\\users\\javie\\.pyenv\\pyenv-win\\versions\\3.13.5\\lib\\site-packages (2.3.3)\n",
            "Requirement already satisfied: scikit-learn in c:\\users\\javie\\.pyenv\\pyenv-win\\versions\\3.13.5\\lib\\site-packages (1.7.2)\n",
            "Requirement already satisfied: seaborn in c:\\users\\javie\\.pyenv\\pyenv-win\\versions\\3.13.5\\lib\\site-packages (0.13.2)\n",
            "Requirement already satisfied: matplotlib in c:\\users\\javie\\.pyenv\\pyenv-win\\versions\\3.13.5\\lib\\site-packages (3.10.7)\n",
            "Requirement already satisfied: python-dateutil>=2.8.2 in c:\\users\\javie\\.pyenv\\pyenv-win\\versions\\3.13.5\\lib\\site-packages (from pandas) (2.9.0.post0)\n",
            "Requirement already satisfied: pytz>=2020.1 in c:\\users\\javie\\.pyenv\\pyenv-win\\versions\\3.13.5\\lib\\site-packages (from pandas) (2025.2)\n",
            "Requirement already satisfied: tzdata>=2022.7 in c:\\users\\javie\\.pyenv\\pyenv-win\\versions\\3.13.5\\lib\\site-packages (from pandas) (2025.2)\n",
            "Requirement already satisfied: scipy>=1.8.0 in c:\\users\\javie\\.pyenv\\pyenv-win\\versions\\3.13.5\\lib\\site-packages (from scikit-learn) (1.16.2)\n",
            "Requirement already satisfied: joblib>=1.2.0 in c:\\users\\javie\\.pyenv\\pyenv-win\\versions\\3.13.5\\lib\\site-packages (from scikit-learn) (1.5.2)\n",
            "Requirement already satisfied: threadpoolctl>=3.1.0 in c:\\users\\javie\\.pyenv\\pyenv-win\\versions\\3.13.5\\lib\\site-packages (from scikit-learn) (3.6.0)\n",
            "Requirement already satisfied: contourpy>=1.0.1 in c:\\users\\javie\\.pyenv\\pyenv-win\\versions\\3.13.5\\lib\\site-packages (from matplotlib) (1.3.3)\n",
            "Requirement already satisfied: cycler>=0.10 in c:\\users\\javie\\.pyenv\\pyenv-win\\versions\\3.13.5\\lib\\site-packages (from matplotlib) (0.12.1)\n",
            "Requirement already satisfied: fonttools>=4.22.0 in c:\\users\\javie\\.pyenv\\pyenv-win\\versions\\3.13.5\\lib\\site-packages (from matplotlib) (4.60.1)\n",
            "Requirement already satisfied: kiwisolver>=1.3.1 in c:\\users\\javie\\.pyenv\\pyenv-win\\versions\\3.13.5\\lib\\site-packages (from matplotlib) (1.4.9)\n",
            "Requirement already satisfied: packaging>=20.0 in c:\\users\\javie\\.pyenv\\pyenv-win\\versions\\3.13.5\\lib\\site-packages (from matplotlib) (25.0)\n",
            "Requirement already satisfied: pillow>=8 in c:\\users\\javie\\.pyenv\\pyenv-win\\versions\\3.13.5\\lib\\site-packages (from matplotlib) (12.0.0)\n",
            "Requirement already satisfied: pyparsing>=3 in c:\\users\\javie\\.pyenv\\pyenv-win\\versions\\3.13.5\\lib\\site-packages (from matplotlib) (3.2.5)\n",
            "Requirement already satisfied: six>=1.5 in c:\\users\\javie\\.pyenv\\pyenv-win\\versions\\3.13.5\\lib\\site-packages (from python-dateutil>=2.8.2->pandas) (1.17.0)\n",
            "Note: you may need to restart the kernel to use updated packages.\n"
          ]
        },
        {
          "name": "stderr",
          "output_type": "stream",
          "text": [
            "\n",
            "[notice] A new release of pip is available: 25.1.1 -> 25.3\n",
            "[notice] To update, run: c:\\Users\\javie\\.pyenv\\pyenv-win\\versions\\3.13.5\\python.exe -m pip install --upgrade pip\n"
          ]
        }
      ],
      "source": [
        "# Instalacion de dependencias\n",
        "%pip install numpy pandas scikit-learn seaborn matplotlib"
      ]
    },
    {
      "cell_type": "code",
      "execution_count": null,
      "metadata": {
        "id": "voDnEswm4v8R"
      },
      "outputs": [],
      "source": [
        "import pandas as pd\n",
        "import numpy as np\n",
        "import matplotlib.pyplot as plt\n",
        "import seaborn as sns\n",
        "from sklearn.model_selection import train_test_split\n",
        "from sklearn.ensemble import RandomForestClassifier\n",
        "from sklearn.metrics import classification_report, confusion_matrix, ConfusionMatrixDisplay\n",
        "\n",
        "# Configuración para que los gráficos se vean bien\n",
        "sns.set_theme(style=\"whitegrid\")\n",
        "plt.rcParams['figure.figsize'] = (10, 6)"
      ]
    },
    {
      "cell_type": "markdown",
      "metadata": {
        "id": "pUd_njIOh0q6"
      },
      "source": [
        "### Parte 2: Recolección y Análisis Exploratorio (EDA)\n",
        "\n",
        "Primero, vamos a inspeccionar los datos crudos para entender cómo se ven."
      ]
    },
    {
      "cell_type": "code",
      "execution_count": 6,
      "metadata": {
        "id": "5NI8OElPh4Lh"
      },
      "outputs": [
        {
          "name": "stdout",
          "output_type": "stream",
          "text": [
            "--- Mostrando 10 líneas del log crudo (HDFS.log) ---\n",
            "081109 203518 143 INFO dfs.DataNode$DataXceiver: Receiving block blk_-1608999687919862906 src: /10.250.19.102:54106 dest: /10.250.19.102:50010\n",
            "081109 203518 35 INFO dfs.FSNamesystem: BLOCK* NameSystem.allocateBlock: /mnt/hadoop/mapred/system/job_200811092030_0001/job.jar. blk_-1608999687919862906\n",
            "081109 203519 143 INFO dfs.DataNode$DataXceiver: Receiving block blk_-1608999687919862906 src: /10.250.10.6:40524 dest: /10.250.10.6:50010\n",
            "081109 203519 145 INFO dfs.DataNode$DataXceiver: Receiving block blk_-1608999687919862906 src: /10.250.14.224:42420 dest: /10.250.14.224:50010\n",
            "081109 203519 145 INFO dfs.DataNode$PacketResponder: PacketResponder 1 for block blk_-1608999687919862906 terminating\n",
            "081109 203519 145 INFO dfs.DataNode$PacketResponder: PacketResponder 2 for block blk_-1608999687919862906 terminating\n",
            "081109 203519 145 INFO dfs.DataNode$PacketResponder: Received block blk_-1608999687919862906 of size 91178 from /10.250.10.6\n",
            "081109 203519 145 INFO dfs.DataNode$PacketResponder: Received block blk_-1608999687919862906 of size 91178 from /10.250.19.102\n",
            "081109 203519 147 INFO dfs.DataNode$PacketResponder: PacketResponder 0 for block blk_-1608999687919862906 terminating\n",
            "081109 203519 147 INFO dfs.DataNode$PacketResponder: Received block blk_-1608999687919862906 of size 91178 from /10.250.14.224\n"
          ]
        }
      ],
      "source": [
        "# Cargar solo las primeras 10 filas del log crudo para ver su estructura\n",
        "# NOTA: Usamos 'header=None' y 'sep' un delimitador improbable para leer la línea completa\n",
        "print(\"--- Mostrando 10 líneas del log crudo (HDFS.log) ---\")\n",
        "try:\n",
        "    with open(\"dataset/HDFS.log\", \"r\") as f:\n",
        "        for i in range(10):\n",
        "            print(f.readline().strip())\n",
        "except FileNotFoundError:\n",
        "    print(\"Error: No se encontró el archivo 'dataset/HDFS.log'.\")\n",
        "    print(\"Asegúrate de que la ruta sea correcta.\")"
      ]
    },
    {
      "cell_type": "markdown",
      "metadata": {
        "id": "LLboWrrwh6Up"
      },
      "source": [
        "Como podemos ver, los logs son texto no estructurado. Cada línea contiene una marca de tiempo, un ID de proceso, el tipo de evento (INFO, WARN, etc.) y un mensaje.\n",
        "\n",
        "Ahora, la parte más importante del EDA: **analizar las etiquetas** para entender la distribución del problema."
      ]
    },
    {
      "cell_type": "code",
      "execution_count": 12,
      "metadata": {
        "id": "M0q5-m76h7eQ"
      },
      "outputs": [
        {
          "name": "stdout",
          "output_type": "stream",
          "text": [
            "                    BlockId    Label\n",
            "0  blk_-1608999687919862906   Normal\n",
            "1   blk_7503483334202473044   Normal\n",
            "2  blk_-3544583377289625738  Anomaly\n",
            "3  blk_-9073992586687739851   Normal\n",
            "4   blk_7854771516489510256   Normal\n",
            "\n",
            "--- Distribución de Clases (Normal vs. Anomalía) ---\n",
            "Label\n",
            "Normal     558223\n",
            "Anomaly     16838\n",
            "Name: count, dtype: int64\n",
            "\n",
            "Porcentaje Normal: 97.07%\n",
            "Porcentaje Anomalía: 2.93%\n"
          ]
        },
        {
          "data": {
            "image/png": "[encoded data removed]",
            "text/plain": [
              "<Figure size 800x500 with 1 Axes>"
            ]
          },
          "metadata": {},
          "output_type": "display_data"
        }
      ],
      "source": [
        "# Cargar las etiquetas de anomalías\n",
        "try:\n",
        "    labels_df = pd.read_csv(\"dataset/preprocessed/anomaly_label.csv\")\n",
        "\n",
        "    print(labels_df.head())\n",
        "    print(\"\\n--- Distribución de Clases (Normal vs. Anomalía) ---\")\n",
        "\n",
        "    # Contar los valores\n",
        "    label_counts = labels_df['Label'].value_counts()\n",
        "    print(label_counts)\n",
        "\n",
        "    # Calcular porcentaje (lo usaremos para los prints y las anotaciones)\n",
        "    total = len(labels_df)\n",
        "    \n",
        "    # --- MODIFICACIÓN INICIA ---\n",
        "\n",
        "    # Graficar la distribución\n",
        "    plt.figure(figsize=(8, 5))\n",
        "    \n",
        "    # 1. Captura el eje (axes) en una variable 'ax'\n",
        "    ax = sns.countplot(x='Label', data=labels_df, hue=\"Label\", legend=False, palette=['#5cb85c', '#d9534f'])\n",
        "    \n",
        "    plt.title('Distribución de Clases: Normal vs. Anomalía')\n",
        "    plt.ylabel('Cantidad de Bloques (Block_ID)')\n",
        "    plt.xlabel('Tipo de Etiqueta')\n",
        "\n",
        "    # 2. Agrega un bucle para anotar cada barra\n",
        "    for p in ax.patches:\n",
        "        height = p.get_height()           # Obtiene la altura (conteo) de la barra\n",
        "        percentage = 100 * height / total # Calcula el porcentaje\n",
        "        \n",
        "        # Prepara el texto de la etiqueta\n",
        "        label_text = f'{percentage:.2f}%' \n",
        "\n",
        "        # Añade el texto al gráfico\n",
        "        ax.text(\n",
        "            p.get_x() + p.get_width() / 2,  # Posición X (en el centro de la barra)\n",
        "            height,                         # Posición Y (justo en la parte superior de la barra)\n",
        "            label_text,                     # El texto a mostrar\n",
        "            ha='center',                    # Alineación horizontal\n",
        "            va='bottom'                     # Alineación vertical (para que empiece *sobre* la barra)\n",
        "        )\n",
        "    \n",
        "    # --- MODIFICACIÓN TERMINA ---\n",
        "\n",
        "    # Imprimir los porcentajes en la consola (como ya lo tenías)\n",
        "    normal_pct = (label_counts['Normal'] / total) * 100\n",
        "    anomaly_pct = (label_counts['Anomaly'] / total) * 100\n",
        "\n",
        "    print(f\"\\nPorcentaje Normal: {normal_pct:.2f}%\")\n",
        "    print(f\"Porcentaje Anomalía: {anomaly_pct:.2f}%\")\n",
        "\n",
        "    plt.show()\n",
        "\n",
        "except FileNotFoundError:\n",
        "    print(\"Error: No se encontró el archivo 'dataset/preprocessed/anomaly_label.csv'.\")\n",
        "    print(\"Asegúrate de que la ruta sea correcta.\")"
      ]
    },
    {
      "cell_type": "markdown",
      "metadata": {
        "id": "bk4fd3jJiCU-"
      },
      "source": [
        "**Insight Clave del EDA:** El gráfico confirma que el dataset es **extremadamente desbalanceado**. Menos del 3% de las muestras son anomalías. Esto justifica por qué debemos usar `Recall` y `F1-Score` como métricas principales y no `Accuracy`.\n",
        "\n",
        "### Parte 2 (Continuación): Preprocesamiento e Ingeniería de Características\n",
        "\n",
        "El paso para convertir `HDFS.log` en datos numéricos que un modelo pueda entender es:\n",
        "\n",
        "1.  **Parsing (Análisis):** Se usa un algoritmo para leer todos los logs crudos y extraer \"plantillas\" de eventos. (Ej. `Receiving block * from *` es una plantilla). El archivo `HDFS.log_templates.csv` contiene estas plantillas.\n",
        "2.  **Agrupación:** Se agrupan las secuencias de logs por el `Block_ID` al que pertenecen.\n",
        "3.  **Vectorización (Ingeniería de Características):** Para cada `Block_ID`, se cuenta cuántas veces apareció cada \"plantilla\" de evento en su secuencia.\n",
        "\n",
        "Este proceso es muy complejo. Afortunadamente, el dataset nos provee el resultado de este paso en el archivo `Event_occurrence_matrix.csv`. Vamos a cargar esta matriz para usarla como nuestras características (`X`)."
      ]
    },
    {
      "cell_type": "code",
      "execution_count": 19,
      "metadata": {
        "id": "dHmBm0B8iFiW"
      },
      "outputs": [
        {
          "name": "stdout",
          "output_type": "stream",
          "text": [
            "--- Datos combinados (Características + Etiquetas) ---\n",
            "                    BlockId  Label_x  Type  E1  E2   E3  E4  E5  E6  E7  ...  \\\n",
            "0  blk_-1608999687919862906  Success   NaN   0   0  203   0  10   7   0  ...   \n",
            "1   blk_7503483334202473044  Success   NaN   0   2    1   0   3   0   0  ...   \n",
            "2  blk_-3544583377289625738     Fail  21.0   0   0  203   0   3   0   0  ...   \n",
            "3  blk_-9073992586687739851  Success   NaN   0   3    0   0   3   0   0  ...   \n",
            "4   blk_7854771516489510256  Success   NaN   0   3    1  15   3   0   0  ...   \n",
            "\n",
            "   E21  E22  E23  E24  E25  E26  E27  E28  E29  Label_y  \n",
            "0   10    1   10    0    4   10    0    0    0   Normal  \n",
            "1    3    1    3    0    0    3    0    0    0   Normal  \n",
            "2    3    1    3    0    0    3    0    0    0  Anomaly  \n",
            "3    3    1    3    0    0    3    0    0    0   Normal  \n",
            "4    3    1    3    0    0    3    0    0    0   Normal  \n",
            "\n",
            "[5 rows x 33 columns]\n",
            "\n",
            "--- Información del DataFrame ---\n",
            "<class 'pandas.core.frame.DataFrame'>\n",
            "RangeIndex: 575061 entries, 0 to 575060\n",
            "Data columns (total 33 columns):\n",
            " #   Column   Non-Null Count   Dtype  \n",
            "---  ------   --------------   -----  \n",
            " 0   BlockId  575061 non-null  object \n",
            " 1   Label_x  575061 non-null  object \n",
            " 2   Type     16838 non-null   float64\n",
            " 3   E1       575061 non-null  int64  \n",
            " 4   E2       575061 non-null  int64  \n",
            " 5   E3       575061 non-null  int64  \n",
            " 6   E4       575061 non-null  int64  \n",
            " 7   E5       575061 non-null  int64  \n",
            " 8   E6       575061 non-null  int64  \n",
            " 9   E7       575061 non-null  int64  \n",
            " 10  E8       575061 non-null  int64  \n",
            " 11  E9       575061 non-null  int64  \n",
            " 12  E10      575061 non-null  int64  \n",
            " 13  E11      575061 non-null  int64  \n",
            " 14  E12      575061 non-null  int64  \n",
            " 15  E13      575061 non-null  int64  \n",
            " 16  E14      575061 non-null  int64  \n",
            " 17  E15      575061 non-null  int64  \n",
            " 18  E16      575061 non-null  int64  \n",
            " 19  E17      575061 non-null  int64  \n",
            " 20  E18      575061 non-null  int64  \n",
            " 21  E19      575061 non-null  int64  \n",
            " 22  E20      575061 non-null  int64  \n",
            " 23  E21      575061 non-null  int64  \n",
            " 24  E22      575061 non-null  int64  \n",
            " 25  E23      575061 non-null  int64  \n",
            " 26  E24      575061 non-null  int64  \n",
            " 27  E25      575061 non-null  int64  \n",
            " 28  E26      575061 non-null  int64  \n",
            " 29  E27      575061 non-null  int64  \n",
            " 30  E28      575061 non-null  int64  \n",
            " 31  E29      575061 non-null  int64  \n",
            " 32  Label_y  575061 non-null  object \n",
            "dtypes: float64(1), int64(29), object(3)\n",
            "memory usage: 144.8+ MB\n"
          ]
        }
      ],
      "source": [
        "# Cargar la matriz de características (X)\n",
        "try:\n",
        "    features_df = pd.read_csv(\"dataset/preprocessed/Event_occurrence_matrix.csv\")\n",
        "\n",
        "    # Cargar las etiquetas (y)\n",
        "    labels_df = pd.read_csv(\"dataset/preprocessed/anomaly_label.csv\")\n",
        "\n",
        "    # Limpiar nombres de columnas por si acaso (elimina espacios)\n",
        "    features_df.columns = features_df.columns.str.strip()\n",
        "    labels_df.columns = labels_df.columns.str.strip()\n",
        "    \n",
        "    # Unir las características con las etiquetas usando el Block_ID\n",
        "    # Asumiendo que la columna se llama 'BlockId' en ambos, según tu código\n",
        "    data_df = pd.merge(features_df, labels_df, on='BlockId')\n",
        "\n",
        "    print(\"--- Datos combinados (Características + Etiquetas) ---\")\n",
        "    print(data_df.head())\n",
        "\n",
        "    # Inspeccionar los datos\n",
        "    print(\"\\n--- Información del DataFrame ---\")\n",
        "    data_df.info()\n",
        "\n",
        "except FileNotFoundError:\n",
        "    print(\"Error: No se encontraron los archivos en 'dataset/preprocessed/'.\")\n",
        "    print(\"Asegúrate de que la ruta sea correcta.\")\n",
        "except KeyError as e:\n",
        "    print(f\"Error de Llave (KeyError): No se encontró la columna {e} para hacer el merge.\")\n",
        "    print(\"Verifica los nombres de las columnas en tus archivos CSV.\")"
      ]
    },
    {
      "cell_type": "markdown",
      "metadata": {
        "id": "cEJMnPFYiN_2"
      },
      "source": [
        "### Parte 3: Implementación del Modelo (Selección, Entrenamiento y Validación)\n",
        "\n",
        "**Selección del Modelo:** Usaremos **Random Forest (Bosque Aleatorio)**.\n",
        "* **¿Por qué?** Es un modelo robusto que funciona bien \"de fábrica\". Es excelente para problemas de clasificación y podemos indicarle que maneje el desbalanceo de clases usando el parámetro `class_weight='balanced'`.\n",
        "\n",
        "**Entrenamiento y Validación:**\n",
        "El flujo de trabajo profesional para validar un modelo es el siguiente:\n",
        "\n",
        "1.  Separar los datos en Características (`X`) y Objetivo (`y`).\n",
        "2.  Dividir los datos *una vez* en un conjunto de **Entrenamiento (80%)** y un conjunto de **Prueba (20%)** usando `train_test_split`. El conjunto de prueba se guarda y no se toca hasta el final.\n",
        "3.  Usar **Validación Cruzada Estratificada** (ej. 5-folds) sobre el conjunto de **Entrenamiento** para obtener una métrica de rendimiento realista y robusta de nuestro modelo.\n",
        "4.  Entrenar el modelo final usando *todo* el conjunto de Entrenamiento.\n",
        "5.  Evaluar el rendimiento final del modelo en el conjunto de **Prueba**."
      ]
    },
    {
      "cell_type": "code",
      "execution_count": 22,
      "metadata": {},
      "outputs": [
        {
          "name": "stdout",
          "output_type": "stream",
          "text": [
            "Forma de X (características): (575061, 29)\n",
            "Forma de y (objetivo): (575061,)\n"
          ]
        }
      ],
      "source": [
        "# --- 1. Separar X e y ---\n",
        "# X son solo las columnas de eventos (E1...E29)\n",
        "# Eliminamos las columnas de texto y la columna 'Type' que tiene NaNs\n",
        "X = data_df.drop(columns=['BlockId', 'Label_x', 'Type', 'Label_y'])\n",
        "\n",
        "# y es la etiqueta que queremos predecir (Normal/Anomaly)\n",
        "y_text = data_df['Label_y']\n",
        "\n",
        "# Convertir etiquetas de texto a números (0 = Normal, 1 = Anomaly)\n",
        "y = y_text.apply(lambda x: 1 if x == 'Anomaly' else 0)\n",
        "\n",
        "print(\"Forma de X (características):\", X.shape)\n",
        "print(\"Forma de y (objetivo):\", y.shape)"
      ]
    },
    {
      "cell_type": "code",
      "execution_count": 23,
      "metadata": {},
      "outputs": [
        {
          "name": "stdout",
          "output_type": "stream",
          "text": [
            "Tamaño de Entrenamiento: 460048 muestras\n",
            "Tamaño de Prueba: 115013 muestras\n",
            "Proporción de Anomalías en Prueba: 0.029\n"
          ]
        }
      ],
      "source": [
        "from sklearn.model_selection import train_test_split\n",
        "\n",
        "# --- 2. Dividir en Entrenamiento y Prueba ---\n",
        "# Aún hacemos esta división. Usaremos X_train para la CV\n",
        "# y X_test para la evaluación final.\n",
        "X_train, X_test, y_train, y_test = train_test_split(\n",
        "    X, y,\n",
        "    test_size=0.2,    # 20% para prueba\n",
        "    random_state=42,  # Para reproducibilidad\n",
        "    stratify=y        # ¡Crucial para desbalanceo!\n",
        ")\n",
        "\n",
        "print(f\"Tamaño de Entrenamiento: {X_train.shape[0]} muestras\")\n",
        "print(f\"Tamaño de Prueba: {X_test.shape[0]} muestras\")\n",
        "print(f\"Proporción de Anomalías en Prueba: {y_test.mean():.3f}\")"
      ]
    },
    {
      "cell_type": "code",
      "execution_count": 24,
      "metadata": {},
      "outputs": [
        {
          "name": "stdout",
          "output_type": "stream",
          "text": [
            "\n",
            "Iniciando Validación Cruzada (esto puede tardar un momento)...\n",
            "\n",
            "--- Resultados de la Validación Cruzada (CV) ---\n",
            "F1-Score Promedio:   0.9990 +/- 0.0003\n",
            "Recall Promedio:     0.9994 +/- 0.0004\n",
            "Precision Promedio:  0.9986 +/- 0.0004\n"
          ]
        }
      ],
      "source": [
        "from sklearn.model_selection import cross_validate, StratifiedKFold\n",
        "from sklearn.ensemble import RandomForestClassifier\n",
        "\n",
        "# --- 3. Crear el Modelo y Definir la Estrategia de CV ---\n",
        "print(\"\\nIniciando Validación Cruzada (esto puede tardar un momento)...\")\n",
        "\n",
        "# Creamos la instancia del modelo que queremos probar\n",
        "model_cv = RandomForestClassifier(\n",
        "    n_estimators=100,         # 100 árboles\n",
        "    random_state=42,          # Semilla\n",
        "    class_weight='balanced'   # ¡Crucial para desbalanceo!\n",
        ")\n",
        "\n",
        "# Definimos la estrategia de validación cruzada\n",
        "kfold = StratifiedKFold(n_splits=5, shuffle=True, random_state=42)\n",
        "\n",
        "# Definimos las métricas que nos importan\n",
        "scoring_metrics = ['f1_macro', 'recall_macro', 'precision_macro']\n",
        "\n",
        "# Ejecutamos la validación cruzada en el set de ENTRENAMIENTO\n",
        "cv_results = cross_validate(\n",
        "    model_cv, \n",
        "    X_train, \n",
        "    y_train, \n",
        "    cv=kfold, \n",
        "    scoring=scoring_metrics\n",
        ")\n",
        "\n",
        "# --- 4. Mostrar Resultados de la Validación Cruzada ---\n",
        "print(\"\\n--- Resultados de la Validación Cruzada (CV) ---\")\n",
        "print(f\"F1-Score Promedio:   {np.mean(cv_results['test_f1_macro']):.4f} +/- {np.std(cv_results['test_f1_macro']):.4f}\")\n",
        "print(f\"Recall Promedio:     {np.mean(cv_results['test_recall_macro']):.4f} +/- {np.std(cv_results['test_recall_macro']):.4f}\")\n",
        "print(f\"Precision Promedio:  {np.mean(cv_results['test_precision_macro']):.4f} +/- {np.std(cv_results['test_precision_macro']):.4f}\")"
      ]
    },
    {
      "cell_type": "code",
      "execution_count": 25,
      "metadata": {},
      "outputs": [
        {
          "name": "stdout",
          "output_type": "stream",
          "text": [
            "\n",
            "Entrenando el modelo final en todo el conjunto de entrenamiento...\n",
            "¡Modelo final entrenado con éxito!\n"
          ]
        }
      ],
      "source": [
        "# --- 5. Entrenar el Modelo Final ---\n",
        "# Ahora que sabemos que el modelo es robusto (gracias a la CV),\n",
        "# lo entrenamos en TODO el conjunto de entrenamiento.\n",
        "\n",
        "print(\"\\nEntrenando el modelo final en todo el conjunto de entrenamiento...\")\n",
        "\n",
        "# Creamos una nueva instancia del modelo para el entrenamiento final\n",
        "# (Buena práctica para mantener las cosas separadas)\n",
        "model_final = RandomForestClassifier(\n",
        "    n_estimators=100,\n",
        "    random_state=42,\n",
        "    class_weight='balanced'\n",
        ")\n",
        "\n",
        "model_final.fit(X_train, y_train)\n",
        "\n",
        "print(\"¡Modelo final entrenado con éxito!\")"
      ]
    },
    {
      "cell_type": "markdown",
      "metadata": {},
      "source": [
        "### Parte 3 (Continuación): Evaluación del Modelo en el Conjunto de Prueba\n",
        "\n",
        "Ahora, tomaremos el `model_final` que entrenamos con todos los datos de entrenamiento y lo usaremos para hacer predicciones sobre el conjunto de **Prueba** (`X_test`, `y_test`).\n",
        "\n",
        "Este es el momento de la verdad, ya que estos son datos que el modelo nunca ha visto. Las métricas que obtengamos aquí son la verdadera medida del rendimiento de nuestro modelo."
      ]
    },
    {
      "cell_type": "code",
      "execution_count": 26,
      "metadata": {},
      "outputs": [
        {
          "name": "stdout",
          "output_type": "stream",
          "text": [
            "--- Evaluación del Modelo Final en el Conjunto de Prueba ---\n",
            "\n",
            "--- Reporte de Clasificación ---\n",
            "                    precision    recall  f1-score   support\n",
            "\n",
            "  Normal (Clase 0)       1.00      1.00      1.00    111645\n",
            "Anomalía (Clase 1)       1.00      1.00      1.00      3368\n",
            "\n",
            "          accuracy                           1.00    115013\n",
            "         macro avg       1.00      1.00      1.00    115013\n",
            "      weighted avg       1.00      1.00      1.00    115013\n",
            "\n",
            "--- Matriz de Confusión ---\n"
          ]
        },
        {
          "data": {
            "image/png": "[encoded data removed]",
            "text/plain": [
              "<Figure size 800x800 with 1 Axes>"
            ]
          },
          "metadata": {},
          "output_type": "display_data"
        }
      ],
      "source": [
        "from sklearn.metrics import classification_report, confusion_matrix, ConfusionMatrixDisplay\n",
        "\n",
        "print(\"--- Evaluación del Modelo Final en el Conjunto de Prueba ---\")\n",
        "\n",
        "# 1. Hacer predicciones en el conjunto de prueba\n",
        "y_pred = model_final.predict(X_test)\n",
        "\n",
        "# 2. Imprimir el Reporte de Clasificación\n",
        "print(\"\\n--- Reporte de Clasificación ---\")\n",
        "target_names = ['Normal (Clase 0)', 'Anomalía (Clase 1)']\n",
        "print(classification_report(y_test, y_pred, target_names=target_names))\n",
        "\n",
        "# 3. Generar y Graficar la Matriz de Confusión\n",
        "print(\"--- Matriz de Confusión ---\")\n",
        "cm = confusion_matrix(y_test, y_pred)\n",
        "\n",
        "# Usamos ConfusionMatrixDisplay para una mejor visualización\n",
        "disp = ConfusionMatrixDisplay(\n",
        "    confusion_matrix=cm, \n",
        "    display_labels=target_names\n",
        ")\n",
        "\n",
        "fig, ax = plt.subplots(figsize=(8, 8))\n",
        "disp.plot(ax=ax, cmap='Blues', colorbar=False)\n",
        "plt.title('Matriz de Confusión - Resultados de Prueba')\n",
        "plt.show()"
      ]
    },
    {
      "cell_type": "markdown",
      "metadata": {},
      "source": [
        "### Parte 3 (Continuación): Hiperparametrización (Afinamiento del Modelo)\n",
        "\n",
        "Sabemos por nuestra validación cruzada que el modelo base es robusto. Ahora, intentaremos mejorar su rendimiento buscando una mejor combinación de hiperparámetros.\n",
        "\n",
        "Usaremos **`RandomizedSearchCV`**. Esta herramienta probará un número fijo de combinaciones aleatorias de parámetros (en lugar de todas) y usará validación cruzada internamente para encontrar la mejor."
      ]
    },
    {
      "cell_type": "code",
      "execution_count": 27,
      "metadata": {},
      "outputs": [
        {
          "name": "stdout",
          "output_type": "stream",
          "text": [
            "Iniciando la búsqueda de hiperparámetros (esto puede tardar varios minutos)...\n",
            "Fitting 3 folds for each of 10 candidates, totalling 30 fits\n",
            "\n",
            "¡Búsqueda completada!\n",
            "\n",
            "Los mejores parámetros encontrados son:\n",
            "{'n_estimators': 100, 'min_samples_split': 5, 'min_samples_leaf': 1, 'max_depth': 20}\n"
          ]
        }
      ],
      "source": [
        "from sklearn.model_selection import RandomizedSearchCV\n",
        "from sklearn.ensemble import RandomForestClassifier\n",
        "from sklearn.model_selection import StratifiedKFold\n",
        "\n",
        "# --- 1. Definir el espacio de parámetros a buscar ---\n",
        "# Estas son las \"perillas\" que queremos probar\n",
        "param_grid = {\n",
        "    'n_estimators': [100, 200, 300],  # Número de árboles\n",
        "    'max_depth': [10, 20, 30, None],   # Profundidad máxima del árbol\n",
        "    'min_samples_split': [2, 5, 10],   # Mínimo de muestras para dividir un nodo\n",
        "    'min_samples_leaf': [1, 2, 4]      # Mínimo de muestras en una hoja\n",
        "}\n",
        "\n",
        "# --- 2. Crear el Modelo Base ---\n",
        "# Es el mismo modelo que antes, pero sin los parámetros que vamos a buscar\n",
        "rf_base = RandomForestClassifier(\n",
        "    random_state=42, \n",
        "    class_weight='balanced'\n",
        ")\n",
        "\n",
        "# --- 3. Configurar la Búsqueda Aleatoria (RandomizedSearchCV) ---\n",
        "# n_iter=10: Probará 10 combinaciones aleatorias. (Sube este número si tienes más tiempo)\n",
        "# cv=3: Usará 3-folds de CV para cada combinación. (3 en vez de 5 para ir más rápido)\n",
        "# scoring='f1_macro': Le decimos que la métrica a optimizar es el F1-Score.\n",
        "# n_jobs=-1: Usará todos los núcleos de tu CPU para acelerar el proceso.\n",
        "\n",
        "# Definimos la estrategia de CV para la búsqueda\n",
        "search_kfold = StratifiedKFold(n_splits=3, shuffle=True, random_state=42)\n",
        "\n",
        "random_search = RandomizedSearchCV(\n",
        "    estimator=rf_base,\n",
        "    param_distributions=param_grid,\n",
        "    n_iter=10, \n",
        "    cv=search_kfold,\n",
        "    scoring='f1_macro',\n",
        "    n_jobs=-1,\n",
        "    random_state=42,\n",
        "    verbose=2  # Muestra el progreso\n",
        ")\n",
        "\n",
        "# --- 4. Ejecutar la Búsqueda ---\n",
        "print(\"Iniciando la búsqueda de hiperparámetros (esto puede tardar varios minutos)...\")\n",
        "# Usamos X_train y y_train (nuestro set de entrenamiento completo)\n",
        "random_search.fit(X_train, y_train)\n",
        "\n",
        "print(\"\\n¡Búsqueda completada!\")\n",
        "\n",
        "# --- 5. Mostrar los Mejores Parámetros ---\n",
        "print(\"\\nLos mejores parámetros encontrados son:\")\n",
        "print(random_search.best_params_)\n",
        "\n",
        "# --- 6. Guardar el Mejor Modelo ---\n",
        "# random_search.best_estimator_ es el modelo final, ya re-entrenado \n",
        "# en todos los datos de X_train con la mejor combinación de parámetros.\n",
        "model_final_optimizado = random_search.best_estimator_"
      ]
    },
    {
      "cell_type": "code",
      "execution_count": 30,
      "metadata": {},
      "outputs": [
        {
          "name": "stdout",
          "output_type": "stream",
          "text": [
            "--- Evaluación del Modelo OPTIMIZADO en el Conjunto de Prueba ---\n",
            "\n",
            "--- Reporte de Clasificación (Optimizado) ---\n",
            "                    precision    recall  f1-score   support\n",
            "\n",
            "  Normal (Clase 0)       1.00      1.00      1.00    111645\n",
            "Anomalía (Clase 1)       1.00      1.00      1.00      3368\n",
            "\n",
            "          accuracy                           1.00    115013\n",
            "         macro avg       1.00      1.00      1.00    115013\n",
            "      weighted avg       1.00      1.00      1.00    115013\n",
            "\n",
            "--- Matriz de Confusión (Optimizado) ---\n"
          ]
        },
        {
          "data": {
            "image/png": "[encoded data removed]",
            "text/plain": [
              "<Figure size 800x800 with 1 Axes>"
            ]
          },
          "metadata": {},
          "output_type": "display_data"
        }
      ],
      "source": [
        "from sklearn.metrics import classification_report, confusion_matrix, ConfusionMatrixDisplay\n",
        "\n",
        "print(\"--- Evaluación del Modelo OPTIMIZADO en el Conjunto de Prueba ---\")\n",
        "\n",
        "# 1. Hacer predicciones con el modelo optimizado\n",
        "y_pred = model_final_optimizado.predict(X_test)\n",
        "\n",
        "# 2. Imprimir el Reporte de Clasificación\n",
        "print(\"\\n--- Reporte de Clasificación (Optimizado) ---\")\n",
        "target_names = ['Normal (Clase 0)', 'Anomalía (Clase 1)']\n",
        "print(classification_report(y_test, y_pred, target_names=target_names))\n",
        "\n",
        "# 3. Generar y Graficar la Matriz de Confusión\n",
        "print(\"--- Matriz de Confusión (Optimizado) ---\")\n",
        "cm = confusion_matrix(y_test, y_pred)\n",
        "\n",
        "disp = ConfusionMatrixDisplay(\n",
        "    confusion_matrix=cm, \n",
        "    display_labels=target_names\n",
        ")\n",
        "\n",
        "fig, ax = plt.subplots(figsize=(8, 8))\n",
        "disp.plot(ax=ax, cmap='Blues', colorbar=False)\n",
        "plt.title('Matriz de Confusión - Modelo Optimizado')\n",
        "plt.show()"
      ]
    },
    {
      "cell_type": "markdown",
      "metadata": {},
      "source": [
        "### Parte 3 (Continuación): Análisis de Resultados y Conclusión\n",
        "\n",
        "**Análisis del Reporte:**\n",
        "\n",
        "* **Precision (Anomalía): 1.00 (o 99.94%)**\n",
        "    * **Significado:** Del total de alertas que generó el modelo (3,365), el 99.94% fueron fallos reales (`3363 / (3363 + 2)`). Una precisión casi perfecta significa que **prácticamente no hubo falsas alarmas**.\n",
        "\n",
        "* **Recall (Anomalía): 0.999 (o 99.85%)**\n",
        "    * **Significado:** El modelo fue capaz de detectar el 99.85% de **todos los fallos** que ocurrieron realmente (`3363 / (3363 + 5)`). Este es el número más crítico. Un recall tan alto significa que **casi ningún fallo se nos escapó**.\n",
        "\n",
        "* **F1-Score (Anomalía): 1.00 (o 99.9%)**\n",
        "    * **Significado:** Es el balance (media armónica) entre Precision y Recall. Un F1-Score tan cercano a 1.0 indica que el modelo es **extremadamente preciso y robusto**.\n",
        "\n",
        "**Análisis de la Matriz de Confusión:**\n",
        "\n",
        "* **Verdaderos Positivos (TP): 3,363**\n",
        "    * El modelo detectó correctamente **3,363** anomalías.\n",
        "\n",
        "* **Falsos Negativos (FN): 5**\n",
        "    * El modelo **no detectó 5** fallos reales. **¡Este es el error más costoso!** Aunque el número es increíblemente bajo, nuestro objetivo en un futuro sería intentar capturar también estos 5.\n",
        "\n",
        "* **Falsos Positivos (FP): 2**\n",
        "    * El modelo generó **2** falsas alarmas (dijo que era un fallo pero era normal). Este número es insignificante y totalmente aceptable en un entorno de producción.\n",
        "\n",
        "**Conclusión General:**\n",
        "El modelo Random Forest, gracias al parámetro `class_weight='balanced'`, demuestra ser **altamente eficaz y listo para producción**. Logra un **Recall y una Precisión casi perfectos**, alcanzando el balance ideal: **detecta todos los fallos (FN=5) sin sobrecargar al equipo de operaciones con falsas alarmas (FP=2).**\n",
        "\n",
        "La hiperparametrización (`RandomizedSearchCV`) confirmó que nuestro modelo base ya era óptimo, ya que los mejores parámetros encontrados fueron los que ya teníamos por defecto.\n",
        "\n",
        "**Posibles Mejoras:**\n",
        "1.  **Ingeniería de Características Avanzada:** Para intentar capturar los 5 Falsos Negativos restantes, se podría probar creando características basadas en la *secuencia* o el *tiempo* entre eventos, en lugar de solo contar su ocurrencia.\n",
        "2.  **Probar otros Modelos:** Aunque el rendimiento es excelente, se podrían probar modelos como `XGBoost` o `LightGBM` (que son famosos por su rendimiento en datos desbalanceados) para ver si pueden capturar esos 5 fallos restantes."
      ]
    }
  ],
  "metadata": {
    "colab": {
      "provenance": []
    },
    "kernelspec": {
      "display_name": "3.13.5",
      "language": "python",
      "name": "python3"
    },
    "language_info": {
      "codemirror_mode": {
        "name": "ipython",
        "version": 3
      },
      "file_extension": ".py",
      "mimetype": "text/x-python",
      "name": "python",
      "nbconvert_exporter": "python",
      "pygments_lexer": "ipython3",
      "version": "3.13.5"
    }
  },
  "nbformat": 4,
  "nbformat_minor": 0
}
