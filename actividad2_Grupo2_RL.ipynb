{
  "cells": [
    {
      "cell_type": "markdown",
      "metadata": {
        "id": "Z7G7QOGC7T6n"
      },
      "source": [
        "# Tarea: Clasificación técnica mediante SVM y Árboles de Decisión\n",
        "\n",
        "**Equipo 2:** \n",
        "\n",
        "JAVIER ALEJANDRO VEGA MOLINA\n",
        "\n",
        "SANTIAGO GERARDO SALAZAR RUIZ\n",
        "\n",
        "FABRICIO ARTURO BERMUDEZ ZAMBRANO\n",
        "\n",
        "FREDY RICARDO CRUZ SANTANA\n",
        "\n",
        "---\n",
        "\n",
        "### Parte 1: Comprensión del Problema\n",
        "\n",
        "**1. ¿Qué problema estamos resolviendo?**\n",
        "Estamos resolviendo la **detección proactiva de fallos** en un sistema de archivos distribuido (Hadoop HDFS). El objetivo es construir un modelo que analice las secuencias de logs del sistema y prediga si un componente (un \"bloque\" de datos) va a fallar, *antes* de que ocurra el fallo.\n",
        "\n",
        "**2. ¿Qué tipo de datos se necesitan?**\n",
        "Se necesitan dos tipos de datos:\n",
        "* **Logs crudos del sistema (`HDFS.log`):** Registros de eventos con marca de tiempo, generados por el servidor.\n",
        "* **Etiquetas de anomalías (`anomaly_label.csv`):** Un archivo que nos dice qué secuencias de logs (agrupadas por `Block_ID`) corresponden a un funcionamiento \"Normal\" y cuáles a una \"Anomalía\" (fallo).\n",
        "\n",
        "**3. ¿Cómo evaluaremos el éxito del modelo?**\n",
        "Los fallos son eventos raros, por lo que el dataset estará **altamente desbalanceado**. Por lo tanto, la \"Accuracy\" (exactitud) no es una buena métrica. Usaremos:\n",
        "* **Precision (Precisión):** Mide la calidad de nuestras alertas. De todas las que generamos, ¿cuántas fueron fallos reales?\n",
        "* **Recall (Sensibilidad):** Mide nuestra capacidad de detectar fallos. De todos los fallos que ocurrieron, ¿cuántos detectamos?\n",
        "* **F1-Score:** La media armónica de Precision y Recall. Es nuestra métrica principal.\n",
        "* **Matriz de Confusión:** Para ver visualmente los Falsos Positivos y Falsos Negativos.\n"
      ]
    },
    {
      "cell_type": "code",
      "execution_count": 1,
      "metadata": {
        "id": "rhDqMoEBMTTF"
      },
      "outputs": [
        {
          "name": "stdout",
          "output_type": "stream",
          "text": [
            "Collecting numpy\n",
            "  Obtaining dependency information for numpy from https://files.pythonhosted.org/packages/c7/e4/0a94b09abe89e500dc748e7515f21a13e30c5c3fe3396e6d4ac108c25fca/numpy-2.3.4-cp312-cp312-macosx_14_0_arm64.whl.metadata\n",
            "  Downloading numpy-2.3.4-cp312-cp312-macosx_14_0_arm64.whl.metadata (62 kB)\n",
            "\u001b[2K     \u001b[90m━━━━━━━━━━━━━━━━━━━━━━━━━━━━━━━━━━━━━━━━\u001b[0m \u001b[32m62.1/62.1 kB\u001b[0m \u001b[31m1.5 MB/s\u001b[0m eta \u001b[36m0:00:00\u001b[0m\n",
            "\u001b[?25hCollecting pandas\n",
            "  Obtaining dependency information for pandas from https://files.pythonhosted.org/packages/5c/bd/bf8064d9cfa214294356c2d6702b716d3cf3bb24be59287a6a21e24cae6b/pandas-2.3.3-cp312-cp312-macosx_11_0_arm64.whl.metadata\n",
            "  Downloading pandas-2.3.3-cp312-cp312-macosx_11_0_arm64.whl.metadata (91 kB)\n",
            "\u001b[2K     \u001b[90m━━━━━━━━━━━━━━━━━━━━━━━━━━━━━━━━━━━━━━━━\u001b[0m \u001b[32m91.2/91.2 kB\u001b[0m \u001b[31m5.2 MB/s\u001b[0m eta \u001b[36m0:00:00\u001b[0m\n",
            "\u001b[?25hCollecting scikit-learn\n",
            "  Obtaining dependency information for scikit-learn from https://files.pythonhosted.org/packages/43/5d/779320063e88af9c4a7c2cf463ff11c21ac9c8bd730c4a294b0000b666c9/scikit_learn-1.7.2-cp312-cp312-macosx_12_0_arm64.whl.metadata\n",
            "  Downloading scikit_learn-1.7.2-cp312-cp312-macosx_12_0_arm64.whl.metadata (11 kB)\n",
            "Collecting seaborn\n",
            "  Obtaining dependency information for seaborn from https://files.pythonhosted.org/packages/83/11/00d3c3dfc25ad54e731d91449895a79e4bf2384dc3ac01809010ba88f6d5/seaborn-0.13.2-py3-none-any.whl.metadata\n",
            "  Downloading seaborn-0.13.2-py3-none-any.whl.metadata (5.4 kB)\n",
            "Collecting matplotlib\n",
            "  Obtaining dependency information for matplotlib from https://files.pythonhosted.org/packages/11/0b/1ae80ddafb8652fd8046cb5c8460ecc8d4afccb89e2c6d6bec61e04e1eaf/matplotlib-3.10.7-cp312-cp312-macosx_11_0_arm64.whl.metadata\n",
            "  Downloading matplotlib-3.10.7-cp312-cp312-macosx_11_0_arm64.whl.metadata (11 kB)\n",
            "Requirement already satisfied: python-dateutil>=2.8.2 in /Users/fredcrz05/Library/Python/3.12/lib/python/site-packages (from pandas) (2.8.2)\n",
            "Collecting pytz>=2020.1 (from pandas)\n",
            "  Obtaining dependency information for pytz>=2020.1 from https://files.pythonhosted.org/packages/81/c4/34e93fe5f5429d7570ec1fa436f1986fb1f00c3e0f43a589fe2bbcd22c3f/pytz-2025.2-py2.py3-none-any.whl.metadata\n",
            "  Downloading pytz-2025.2-py2.py3-none-any.whl.metadata (22 kB)\n",
            "Collecting tzdata>=2022.7 (from pandas)\n",
            "  Obtaining dependency information for tzdata>=2022.7 from https://files.pythonhosted.org/packages/5c/23/c7abc0ca0a1526a0774eca151daeb8de62ec457e77262b66b359c3c7679e/tzdata-2025.2-py2.py3-none-any.whl.metadata\n",
            "  Downloading tzdata-2025.2-py2.py3-none-any.whl.metadata (1.4 kB)\n",
            "Collecting scipy>=1.8.0 (from scikit-learn)\n",
            "  Obtaining dependency information for scipy>=1.8.0 from https://files.pythonhosted.org/packages/96/5e/36bf3f0ac298187d1ceadde9051177d6a4fe4d507e8f59067dc9dd39e650/scipy-1.16.3-cp312-cp312-macosx_14_0_arm64.whl.metadata\n",
            "  Downloading scipy-1.16.3-cp312-cp312-macosx_14_0_arm64.whl.metadata (62 kB)\n",
            "\u001b[2K     \u001b[90m━━━━━━━━━━━━━━━━━━━━━━━━━━━━━━━━━━━━━━━━\u001b[0m \u001b[32m62.0/62.0 kB\u001b[0m \u001b[31m5.7 MB/s\u001b[0m eta \u001b[36m0:00:00\u001b[0m\n",
            "\u001b[?25hCollecting joblib>=1.2.0 (from scikit-learn)\n",
            "  Obtaining dependency information for joblib>=1.2.0 from https://files.pythonhosted.org/packages/1e/e8/685f47e0d754320684db4425a0967f7d3fa70126bffd76110b7009a0090f/joblib-1.5.2-py3-none-any.whl.metadata\n",
            "  Downloading joblib-1.5.2-py3-none-any.whl.metadata (5.6 kB)\n",
            "Collecting threadpoolctl>=3.1.0 (from scikit-learn)\n",
            "  Obtaining dependency information for threadpoolctl>=3.1.0 from https://files.pythonhosted.org/packages/32/d5/f9a850d79b0851d1d4ef6456097579a9005b31fea68726a4ae5f2d82ddd9/threadpoolctl-3.6.0-py3-none-any.whl.metadata\n",
            "  Downloading threadpoolctl-3.6.0-py3-none-any.whl.metadata (13 kB)\n",
            "Collecting contourpy>=1.0.1 (from matplotlib)\n",
            "  Obtaining dependency information for contourpy>=1.0.1 from https://files.pythonhosted.org/packages/53/3e/405b59cfa13021a56bba395a6b3aca8cec012b45bf177b0eaf7a202cde2c/contourpy-1.3.3-cp312-cp312-macosx_11_0_arm64.whl.metadata\n",
            "  Downloading contourpy-1.3.3-cp312-cp312-macosx_11_0_arm64.whl.metadata (5.5 kB)\n",
            "Collecting cycler>=0.10 (from matplotlib)\n",
            "  Obtaining dependency information for cycler>=0.10 from https://files.pythonhosted.org/packages/e7/05/c19819d5e3d95294a6f5947fb9b9629efb316b96de511b418c53d245aae6/cycler-0.12.1-py3-none-any.whl.metadata\n",
            "  Downloading cycler-0.12.1-py3-none-any.whl.metadata (3.8 kB)\n",
            "Collecting fonttools>=4.22.0 (from matplotlib)\n",
            "  Obtaining dependency information for fonttools>=4.22.0 from https://files.pythonhosted.org/packages/e3/f7/a10b101b7a6f8836a5adb47f2791f2075d044a6ca123f35985c42edc82d8/fonttools-4.60.1-cp312-cp312-macosx_10_13_universal2.whl.metadata\n",
            "  Downloading fonttools-4.60.1-cp312-cp312-macosx_10_13_universal2.whl.metadata (112 kB)\n",
            "\u001b[2K     \u001b[90m━━━━━━━━━━━━━━━━━━━━━━━━━━━━━━━━━━━━━━━\u001b[0m \u001b[32m112.3/112.3 kB\u001b[0m \u001b[31m8.2 MB/s\u001b[0m eta \u001b[36m0:00:00\u001b[0m\n",
            "\u001b[?25hCollecting kiwisolver>=1.3.1 (from matplotlib)\n",
            "  Obtaining dependency information for kiwisolver>=1.3.1 from https://files.pythonhosted.org/packages/5b/5a/51f5464373ce2aeb5194508298a508b6f21d3867f499556263c64c621914/kiwisolver-1.4.9-cp312-cp312-macosx_11_0_arm64.whl.metadata\n",
            "  Downloading kiwisolver-1.4.9-cp312-cp312-macosx_11_0_arm64.whl.metadata (6.3 kB)\n",
            "Requirement already satisfied: packaging>=20.0 in /Users/fredcrz05/Library/Python/3.12/lib/python/site-packages (from matplotlib) (23.2)\n",
            "Collecting pillow>=8 (from matplotlib)\n",
            "  Obtaining dependency information for pillow>=8 from https://files.pythonhosted.org/packages/fd/e0/ed960067543d080691d47d6938ebccbf3976a931c9567ab2fbfab983a5dd/pillow-12.0.0-cp312-cp312-macosx_11_0_arm64.whl.metadata\n",
            "  Downloading pillow-12.0.0-cp312-cp312-macosx_11_0_arm64.whl.metadata (8.8 kB)\n",
            "Collecting pyparsing>=3 (from matplotlib)\n",
            "  Obtaining dependency information for pyparsing>=3 from https://files.pythonhosted.org/packages/10/5e/1aa9a93198c6b64513c9d7752de7422c06402de6600a8767da1524f9570b/pyparsing-3.2.5-py3-none-any.whl.metadata\n",
            "  Downloading pyparsing-3.2.5-py3-none-any.whl.metadata (5.0 kB)\n",
            "Requirement already satisfied: six>=1.5 in /Users/fredcrz05/Library/Python/3.12/lib/python/site-packages (from python-dateutil>=2.8.2->pandas) (1.16.0)\n",
            "Downloading numpy-2.3.4-cp312-cp312-macosx_14_0_arm64.whl (5.1 MB)\n",
            "\u001b[2K   \u001b[90m━━━━━━━━━━━━━━━━━━━━━━━━━━━━━━━━━━━━━━━━\u001b[0m \u001b[32m5.1/5.1 MB\u001b[0m \u001b[31m34.9 MB/s\u001b[0m eta \u001b[36m0:00:00\u001b[0ma \u001b[36m0:00:01\u001b[0m\n",
            "\u001b[?25hDownloading pandas-2.3.3-cp312-cp312-macosx_11_0_arm64.whl (10.7 MB)\n",
            "\u001b[2K   \u001b[90m━━━━━━━━━━━━━━━━━━━━━━━━━━━━━━━━━━━━━━━━\u001b[0m \u001b[32m10.7/10.7 MB\u001b[0m \u001b[31m57.0 MB/s\u001b[0m eta \u001b[36m0:00:00\u001b[0m \u001b[36m0:00:01\u001b[0m\n",
            "\u001b[?25hDownloading scikit_learn-1.7.2-cp312-cp312-macosx_12_0_arm64.whl (8.6 MB)\n",
            "\u001b[2K   \u001b[90m━━━━━━━━━━━━━━━━━━━━━━━━━━━━━━━━━━━━━━━━\u001b[0m \u001b[32m8.6/8.6 MB\u001b[0m \u001b[31m57.9 MB/s\u001b[0m eta \u001b[36m0:00:00\u001b[0ma \u001b[36m0:00:01\u001b[0m\n",
            "\u001b[?25hDownloading seaborn-0.13.2-py3-none-any.whl (294 kB)\n",
            "\u001b[2K   \u001b[90m━━━━━━━━━━━━━━━━━━━━━━━━━━━━━━━━━━━━━━━━\u001b[0m \u001b[32m294.9/294.9 kB\u001b[0m \u001b[31m20.4 MB/s\u001b[0m eta \u001b[36m0:00:00\u001b[0m\n",
            "\u001b[?25hDownloading matplotlib-3.10.7-cp312-cp312-macosx_11_0_arm64.whl (8.1 MB)\n",
            "\u001b[2K   \u001b[90m━━━━━━━━━━━━━━━━━━━━━━━━━━━━━━━━━━━━━━━━\u001b[0m \u001b[32m8.1/8.1 MB\u001b[0m \u001b[31m63.4 MB/s\u001b[0m eta \u001b[36m0:00:00\u001b[0m00:01\u001b[0m00:01\u001b[0m\n",
            "\u001b[?25hDownloading contourpy-1.3.3-cp312-cp312-macosx_11_0_arm64.whl (273 kB)\n",
            "\u001b[2K   \u001b[90m━━━━━━━━━━━━━━━━━━━━━━━━━━━━━━━━━━━━━━━━\u001b[0m \u001b[32m274.0/274.0 kB\u001b[0m \u001b[31m17.9 MB/s\u001b[0m eta \u001b[36m0:00:00\u001b[0m\n",
            "\u001b[?25hDownloading cycler-0.12.1-py3-none-any.whl (8.3 kB)\n",
            "Downloading fonttools-4.60.1-cp312-cp312-macosx_10_13_universal2.whl (2.8 MB)\n",
            "\u001b[2K   \u001b[90m━━━━━━━━━━━━━━━━━━━━━━━━━━━━━━━━━━━━━━━━\u001b[0m \u001b[32m2.8/2.8 MB\u001b[0m \u001b[31m54.3 MB/s\u001b[0m eta \u001b[36m0:00:00\u001b[0ma \u001b[36m0:00:01\u001b[0m\n",
            "\u001b[?25hDownloading joblib-1.5.2-py3-none-any.whl (308 kB)\n",
            "\u001b[2K   \u001b[90m━━━━━━━━━━━━━━━━━━━━━━━━━━━━━━━━━━━━━━━━\u001b[0m \u001b[32m308.4/308.4 kB\u001b[0m \u001b[31m23.7 MB/s\u001b[0m eta \u001b[36m0:00:00\u001b[0m\n",
            "\u001b[?25hDownloading kiwisolver-1.4.9-cp312-cp312-macosx_11_0_arm64.whl (64 kB)\n",
            "\u001b[2K   \u001b[90m━━━━━━━━━━━━━━━━━━━━━━━━━━━━━━━━━━━━━━━━\u001b[0m \u001b[32m65.0/65.0 kB\u001b[0m \u001b[31m6.5 MB/s\u001b[0m eta \u001b[36m0:00:00\u001b[0m\n",
            "\u001b[?25hDownloading pillow-12.0.0-cp312-cp312-macosx_11_0_arm64.whl (4.7 MB)\n",
            "\u001b[2K   \u001b[90m━━━━━━━━━━━━━━━━━━━━━━━━━━━━━━━━━━━━━━━━\u001b[0m \u001b[32m4.7/4.7 MB\u001b[0m \u001b[31m52.8 MB/s\u001b[0m eta \u001b[36m0:00:00\u001b[0ma \u001b[36m0:00:01\u001b[0m\n",
            "\u001b[?25hDownloading pyparsing-3.2.5-py3-none-any.whl (113 kB)\n",
            "\u001b[2K   \u001b[90m━━━━━━━━━━━━━━━━━━━━━━━━━━━━━━━━━━━━━━━━\u001b[0m \u001b[32m113.9/113.9 kB\u001b[0m \u001b[31m14.5 MB/s\u001b[0m eta \u001b[36m0:00:00\u001b[0m\n",
            "\u001b[?25hDownloading pytz-2025.2-py2.py3-none-any.whl (509 kB)\n",
            "\u001b[2K   \u001b[90m━━━━━━━━━━━━━━━━━━━━━━━━━━━━━━━━━━━━━━━━\u001b[0m \u001b[32m509.2/509.2 kB\u001b[0m \u001b[31m31.7 MB/s\u001b[0m eta \u001b[36m0:00:00\u001b[0m\n",
            "\u001b[?25hDownloading scipy-1.16.3-cp312-cp312-macosx_14_0_arm64.whl (20.9 MB)\n",
            "\u001b[2K   \u001b[90m━━━━━━━━━━━━━━━━━━━━━━━━━━━━━━━━━━━━━━━━\u001b[0m \u001b[32m20.9/20.9 MB\u001b[0m \u001b[31m51.4 MB/s\u001b[0m eta \u001b[36m0:00:00\u001b[0m00:01\u001b[0m00:01\u001b[0m\n",
            "\u001b[?25hDownloading threadpoolctl-3.6.0-py3-none-any.whl (18 kB)\n",
            "Downloading tzdata-2025.2-py2.py3-none-any.whl (347 kB)\n",
            "\u001b[2K   \u001b[90m━━━━━━━━━━━━━━━━━━━━━━━━━━━━━━━━━━━━━━━━\u001b[0m \u001b[32m347.8/347.8 kB\u001b[0m \u001b[31m31.6 MB/s\u001b[0m eta \u001b[36m0:00:00\u001b[0m\n",
            "\u001b[?25hInstalling collected packages: pytz, tzdata, threadpoolctl, pyparsing, pillow, numpy, kiwisolver, joblib, fonttools, cycler, scipy, pandas, contourpy, scikit-learn, matplotlib, seaborn\n",
            "Successfully installed contourpy-1.3.3 cycler-0.12.1 fonttools-4.60.1 joblib-1.5.2 kiwisolver-1.4.9 matplotlib-3.10.7 numpy-2.3.4 pandas-2.3.3 pillow-12.0.0 pyparsing-3.2.5 pytz-2025.2 scikit-learn-1.7.2 scipy-1.16.3 seaborn-0.13.2 threadpoolctl-3.6.0 tzdata-2025.2\n",
            "\n",
            "\u001b[1m[\u001b[0m\u001b[34;49mnotice\u001b[0m\u001b[1;39;49m]\u001b[0m\u001b[39;49m A new release of pip is available: \u001b[0m\u001b[31;49m23.2.1\u001b[0m\u001b[39;49m -> \u001b[0m\u001b[32;49m25.3\u001b[0m\n",
            "\u001b[1m[\u001b[0m\u001b[34;49mnotice\u001b[0m\u001b[1;39;49m]\u001b[0m\u001b[39;49m To update, run: \u001b[0m\u001b[32;49mpip3.12 install --upgrade pip\u001b[0m\n",
            "Note: you may need to restart the kernel to use updated packages.\n"
          ]
        }
      ],
      "source": [
        "# Instalacion de dependencias\n",
        "%pip install numpy pandas scikit-learn seaborn matplotlib"
      ]
    },
    {
      "cell_type": "code",
      "execution_count": 4,
      "metadata": {
        "id": "voDnEswm4v8R"
      },
      "outputs": [],
      "source": [
        "import pandas as pd\n",
        "import numpy as np\n",
        "import matplotlib.pyplot as plt\n",
        "import seaborn as sns\n",
        "from sklearn.model_selection import train_test_split\n",
        "from sklearn.ensemble import RandomForestClassifier\n",
        "from sklearn.metrics import classification_report, confusion_matrix, ConfusionMatrixDisplay\n",
        "\n",
        "# Configuración para que los gráficos se vean bien\n",
        "sns.set_theme(style=\"whitegrid\")\n",
        "plt.rcParams['figure.figsize'] = (10, 6)"
      ]
    },
    {
      "cell_type": "markdown",
      "metadata": {
        "id": "pUd_njIOh0q6"
      },
      "source": [
        "### Parte 2: Recolección y Análisis Exploratorio (EDA)\n",
        "\n",
        "Primero, vamos a inspeccionar los datos crudos para entender cómo se ven."
      ]
    },
    {
      "cell_type": "code",
      "execution_count": 5,
      "metadata": {
        "id": "5NI8OElPh4Lh"
      },
      "outputs": [
        {
          "name": "stdout",
          "output_type": "stream",
          "text": [
            "--- Mostrando 10 líneas del log crudo (HDFS.log) ---\n",
            "081109 203518 143 INFO dfs.DataNode$DataXceiver: Receiving block blk_-1608999687919862906 src: /10.250.19.102:54106 dest: /10.250.19.102:50010\n",
            "081109 203518 35 INFO dfs.FSNamesystem: BLOCK* NameSystem.allocateBlock: /mnt/hadoop/mapred/system/job_200811092030_0001/job.jar. blk_-1608999687919862906\n",
            "081109 203519 143 INFO dfs.DataNode$DataXceiver: Receiving block blk_-1608999687919862906 src: /10.250.10.6:40524 dest: /10.250.10.6:50010\n",
            "081109 203519 145 INFO dfs.DataNode$DataXceiver: Receiving block blk_-1608999687919862906 src: /10.250.14.224:42420 dest: /10.250.14.224:50010\n",
            "081109 203519 145 INFO dfs.DataNode$PacketResponder: PacketResponder 1 for block blk_-1608999687919862906 terminating\n",
            "081109 203519 145 INFO dfs.DataNode$PacketResponder: PacketResponder 2 for block blk_-1608999687919862906 terminating\n",
            "081109 203519 145 INFO dfs.DataNode$PacketResponder: Received block blk_-1608999687919862906 of size 91178 from /10.250.10.6\n",
            "081109 203519 145 INFO dfs.DataNode$PacketResponder: Received block blk_-1608999687919862906 of size 91178 from /10.250.19.102\n",
            "081109 203519 147 INFO dfs.DataNode$PacketResponder: PacketResponder 0 for block blk_-1608999687919862906 terminating\n",
            "081109 203519 147 INFO dfs.DataNode$PacketResponder: Received block blk_-1608999687919862906 of size 91178 from /10.250.14.224\n"
          ]
        }
      ],
      "source": [
        "# Cargar solo las primeras 10 filas del log crudo para ver su estructura\n",
        "# NOTA: Usamos 'header=None' y 'sep' un delimitador improbable para leer la línea completa\n",
        "print(\"--- Mostrando 10 líneas del log crudo (HDFS.log) ---\")\n",
        "try:\n",
        "    with open(\"dataset/HDFS.log\", \"r\") as f:\n",
        "        for i in range(10):\n",
        "            print(f.readline().strip())\n",
        "except FileNotFoundError:\n",
        "    print(\"Error: No se encontró el archivo 'dataset/HDFS.log'.\")\n",
        "    print(\"Asegúrate de que la ruta sea correcta.\")"
      ]
    },
    {
      "cell_type": "markdown",
      "metadata": {
        "id": "LLboWrrwh6Up"
      },
      "source": [
        "Como podemos ver, los logs son texto no estructurado. Cada línea contiene una marca de tiempo, un ID de proceso, el tipo de evento (INFO, WARN, etc.) y un mensaje.\n",
        "\n",
        "Ahora, la parte más importante del EDA: **analizar las etiquetas** para entender la distribución del problema."
      ]
    },
    {
      "cell_type": "code",
      "execution_count": 6,
      "metadata": {
        "id": "M0q5-m76h7eQ"
      },
      "outputs": [
        {
          "name": "stdout",
          "output_type": "stream",
          "text": [
            "                    BlockId    Label\n",
            "0  blk_-1608999687919862906   Normal\n",
            "1   blk_7503483334202473044   Normal\n",
            "2  blk_-3544583377289625738  Anomaly\n",
            "3  blk_-9073992586687739851   Normal\n",
            "4   blk_7854771516489510256   Normal\n",
            "\n",
            "--- Distribución de Clases (Normal vs. Anomalía) ---\n",
            "Label\n",
            "Normal     558223\n",
            "Anomaly     16838\n",
            "Name: count, dtype: int64\n",
            "\n",
            "Porcentaje Normal: 97.07%\n",
            "Porcentaje Anomalía: 2.93%\n"
          ]
        },
        {
          "data": {
            "image/png": "[encoded data removed]",
            "text/plain": [
              "<Figure size 800x500 with 1 Axes>"
            ]
          },
          "metadata": {},
          "output_type": "display_data"
        }
      ],
      "source": [
        "# Cargar las etiquetas de anomalías\n",
        "try:\n",
        "    labels_df = pd.read_csv(\"dataset/preprocessed/anomaly_label.csv\")\n",
        "\n",
        "    print(labels_df.head())\n",
        "    print(\"\\n--- Distribución de Clases (Normal vs. Anomalía) ---\")\n",
        "\n",
        "    # Contar los valores\n",
        "    label_counts = labels_df['Label'].value_counts()\n",
        "    print(label_counts)\n",
        "\n",
        "    # Calcular porcentaje (lo usaremos para los prints y las anotaciones)\n",
        "    total = len(labels_df)\n",
        "    \n",
        "    # --- MODIFICACIÓN INICIA ---\n",
        "\n",
        "    # Graficar la distribución\n",
        "    plt.figure(figsize=(8, 5))\n",
        "    \n",
        "    # 1. Captura el eje (axes) en una variable 'ax'\n",
        "    ax = sns.countplot(x='Label', data=labels_df, hue=\"Label\", legend=False, palette=['#5cb85c', '#d9534f'])\n",
        "    \n",
        "    plt.title('Distribución de Clases: Normal vs. Anomalía')\n",
        "    plt.ylabel('Cantidad de Bloques (Block_ID)')\n",
        "    plt.xlabel('Tipo de Etiqueta')\n",
        "\n",
        "    # 2. Agrega un bucle para anotar cada barra\n",
        "    for p in ax.patches:\n",
        "        height = p.get_height()           # Obtiene la altura (conteo) de la barra\n",
        "        percentage = 100 * height / total # Calcula el porcentaje\n",
        "        \n",
        "        # Prepara el texto de la etiqueta\n",
        "        label_text = f'{percentage:.2f}%' \n",
        "\n",
        "        # Añade el texto al gráfico\n",
        "        ax.text(\n",
        "            p.get_x() + p.get_width() / 2,  # Posición X (en el centro de la barra)\n",
        "            height,                         # Posición Y (justo en la parte superior de la barra)\n",
        "            label_text,                     # El texto a mostrar\n",
        "            ha='center',                    # Alineación horizontal\n",
        "            va='bottom'                     # Alineación vertical (para que empiece *sobre* la barra)\n",
        "        )\n",
        "    \n",
        "    # --- MODIFICACIÓN TERMINA ---\n",
        "\n",
        "    # Imprimir los porcentajes en la consola (como ya lo tenías)\n",
        "    normal_pct = (label_counts['Normal'] / total) * 100\n",
        "    anomaly_pct = (label_counts['Anomaly'] / total) * 100\n",
        "\n",
        "    print(f\"\\nPorcentaje Normal: {normal_pct:.2f}%\")\n",
        "    print(f\"Porcentaje Anomalía: {anomaly_pct:.2f}%\")\n",
        "\n",
        "    plt.show()\n",
        "\n",
        "except FileNotFoundError:\n",
        "    print(\"Error: No se encontró el archivo 'dataset/preprocessed/anomaly_label.csv'.\")\n",
        "    print(\"Asegúrate de que la ruta sea correcta.\")"
      ]
    },
    {
      "cell_type": "markdown",
      "metadata": {
        "id": "bk4fd3jJiCU-"
      },
      "source": [
        "**Insight Clave del EDA:** El gráfico confirma que el dataset es **extremadamente desbalanceado**. Menos del 3% de las muestras son anomalías. Esto justifica por qué debemos usar `Recall` y `F1-Score` como métricas principales y no `Accuracy`.\n",
        "\n",
        "### Parte 2 (Continuación): Preprocesamiento e Ingeniería de Características\n",
        "\n",
        "El paso para convertir `HDFS.log` en datos numéricos que un modelo pueda entender es:\n",
        "\n",
        "1.  **Parsing (Análisis):** Se usa un algoritmo para leer todos los logs crudos y extraer \"plantillas\" de eventos. (Ej. `Receiving block * from *` es una plantilla). El archivo `HDFS.log_templates.csv` contiene estas plantillas.\n",
        "2.  **Agrupación:** Se agrupan las secuencias de logs por el `Block_ID` al que pertenecen.\n",
        "3.  **Vectorización (Ingeniería de Características):** Para cada `Block_ID`, se cuenta cuántas veces apareció cada \"plantilla\" de evento en su secuencia.\n",
        "\n",
        "Este proceso es muy complejo. Afortunadamente, el dataset nos provee el resultado de este paso en el archivo `Event_occurrence_matrix.csv`. Vamos a cargar esta matriz para usarla como nuestras características (`X`)."
      ]
    },
    {
      "cell_type": "code",
      "execution_count": 7,
      "metadata": {
        "id": "dHmBm0B8iFiW"
      },
      "outputs": [
        {
          "name": "stdout",
          "output_type": "stream",
          "text": [
            "--- Datos combinados (Características + Etiquetas) ---\n",
            "                    BlockId  Label_x  Type  E1  E2   E3  E4  E5  E6  E7  ...  \\\n",
            "0  blk_-1608999687919862906  Success   NaN   0   0  203   0  10   7   0  ...   \n",
            "1   blk_7503483334202473044  Success   NaN   0   2    1   0   3   0   0  ...   \n",
            "2  blk_-3544583377289625738     Fail  21.0   0   0  203   0   3   0   0  ...   \n",
            "3  blk_-9073992586687739851  Success   NaN   0   3    0   0   3   0   0  ...   \n",
            "4   blk_7854771516489510256  Success   NaN   0   3    1  15   3   0   0  ...   \n",
            "\n",
            "   E21  E22  E23  E24  E25  E26  E27  E28  E29  Label_y  \n",
            "0   10    1   10    0    4   10    0    0    0   Normal  \n",
            "1    3    1    3    0    0    3    0    0    0   Normal  \n",
            "2    3    1    3    0    0    3    0    0    0  Anomaly  \n",
            "3    3    1    3    0    0    3    0    0    0   Normal  \n",
            "4    3    1    3    0    0    3    0    0    0   Normal  \n",
            "\n",
            "[5 rows x 33 columns]\n",
            "\n",
            "--- Información del DataFrame ---\n",
            "<class 'pandas.core.frame.DataFrame'>\n",
            "RangeIndex: 575061 entries, 0 to 575060\n",
            "Data columns (total 33 columns):\n",
            " #   Column   Non-Null Count   Dtype  \n",
            "---  ------   --------------   -----  \n",
            " 0   BlockId  575061 non-null  object \n",
            " 1   Label_x  575061 non-null  object \n",
            " 2   Type     16838 non-null   float64\n",
            " 3   E1       575061 non-null  int64  \n",
            " 4   E2       575061 non-null  int64  \n",
            " 5   E3       575061 non-null  int64  \n",
            " 6   E4       575061 non-null  int64  \n",
            " 7   E5       575061 non-null  int64  \n",
            " 8   E6       575061 non-null  int64  \n",
            " 9   E7       575061 non-null  int64  \n",
            " 10  E8       575061 non-null  int64  \n",
            " 11  E9       575061 non-null  int64  \n",
            " 12  E10      575061 non-null  int64  \n",
            " 13  E11      575061 non-null  int64  \n",
            " 14  E12      575061 non-null  int64  \n",
            " 15  E13      575061 non-null  int64  \n",
            " 16  E14      575061 non-null  int64  \n",
            " 17  E15      575061 non-null  int64  \n",
            " 18  E16      575061 non-null  int64  \n",
            " 19  E17      575061 non-null  int64  \n",
            " 20  E18      575061 non-null  int64  \n",
            " 21  E19      575061 non-null  int64  \n",
            " 22  E20      575061 non-null  int64  \n",
            " 23  E21      575061 non-null  int64  \n",
            " 24  E22      575061 non-null  int64  \n",
            " 25  E23      575061 non-null  int64  \n",
            " 26  E24      575061 non-null  int64  \n",
            " 27  E25      575061 non-null  int64  \n",
            " 28  E26      575061 non-null  int64  \n",
            " 29  E27      575061 non-null  int64  \n",
            " 30  E28      575061 non-null  int64  \n",
            " 31  E29      575061 non-null  int64  \n",
            " 32  Label_y  575061 non-null  object \n",
            "dtypes: float64(1), int64(29), object(3)\n",
            "memory usage: 144.8+ MB\n"
          ]
        }
      ],
      "source": [
        "# Cargar la matriz de características (X)\n",
        "try:\n",
        "    features_df = pd.read_csv(\"dataset/preprocessed/Event_occurrence_matrix.csv\")\n",
        "\n",
        "    # Cargar las etiquetas (y)\n",
        "    labels_df = pd.read_csv(\"dataset/preprocessed/anomaly_label.csv\")\n",
        "\n",
        "    # Limpiar nombres de columnas por si acaso (elimina espacios)\n",
        "    features_df.columns = features_df.columns.str.strip()\n",
        "    labels_df.columns = labels_df.columns.str.strip()\n",
        "    \n",
        "    # Unir las características con las etiquetas usando el Block_ID\n",
        "    # Asumiendo que la columna se llama 'BlockId' en ambos, según tu código\n",
        "    data_df = pd.merge(features_df, labels_df, on='BlockId')\n",
        "\n",
        "    print(\"--- Datos combinados (Características + Etiquetas) ---\")\n",
        "    print(data_df.head())\n",
        "\n",
        "    # Inspeccionar los datos\n",
        "    print(\"\\n--- Información del DataFrame ---\")\n",
        "    data_df.info()\n",
        "\n",
        "except FileNotFoundError:\n",
        "    print(\"Error: No se encontraron los archivos en 'dataset/preprocessed/'.\")\n",
        "    print(\"Asegúrate de que la ruta sea correcta.\")\n",
        "except KeyError as e:\n",
        "    print(f\"Error de Llave (KeyError): No se encontró la columna {e} para hacer el merge.\")\n",
        "    print(\"Verifica los nombres de las columnas en tus archivos CSV.\")"
      ]
    },
    {
      "cell_type": "markdown",
      "metadata": {},
      "source": [
        "### Estandarización de datos"
      ]
    },
    {
      "cell_type": "code",
      "execution_count": 10,
      "metadata": {},
      "outputs": [
        {
          "name": "stdout",
          "output_type": "stream",
          "text": [
            "Forma de X (características): (575061, 29)\n",
            "Forma de y (objetivo): (575061,)\n"
          ]
        }
      ],
      "source": [
        "# --- 1. Separar X e y ---\n",
        "# X son solo las columnas de eventos (E1...E29)\n",
        "# Eliminamos las columnas de texto y la columna 'Type' que tiene NaNs\n",
        "X = data_df.drop(columns=['BlockId', 'Label_x', 'Type', 'Label_y'])\n",
        "\n",
        "# y es la etiqueta que queremos predecir (Normal/Anomaly)\n",
        "y_text = data_df['Label_y']\n",
        "\n",
        "# Convertir etiquetas de texto a números (0 = Normal, 1 = Anomaly)\n",
        "y = y_text.apply(lambda x: 1 if x == 'Anomaly' else 0)\n",
        "\n",
        "print(\"Forma de X (características):\", X.shape)\n",
        "print(\"Forma de y (objetivo):\", y.shape)"
      ]
    },
    {
      "cell_type": "code",
      "execution_count": 11,
      "metadata": {},
      "outputs": [
        {
          "name": "stdout",
          "output_type": "stream",
          "text": [
            "Tamaño de Entrenamiento: 460048 muestras\n",
            "Tamaño de Prueba: 115013 muestras\n",
            "Proporción de Anomalías en Prueba: 0.029\n"
          ]
        }
      ],
      "source": [
        "from sklearn.model_selection import train_test_split\n",
        "\n",
        "# --- 2. Dividir en Entrenamiento y Prueba ---\n",
        "X_train, X_test, y_train, y_test = train_test_split(\n",
        "    X, y,\n",
        "    test_size=0.2,    # 20% para prueba\n",
        "    random_state=42,  # Para reproducibilidad\n",
        "    stratify=y        # ¡Crucial para desbalanceo!\n",
        ")\n",
        "\n",
        "print(f\"Tamaño de Entrenamiento: {X_train.shape[0]} muestras\")\n",
        "print(f\"Tamaño de Prueba: {X_test.shape[0]} muestras\")\n",
        "print(f\"Proporción de Anomalías en Prueba: {y_test.mean():.3f}\")"
      ]
    },
    {
      "cell_type": "markdown",
      "metadata": {},
      "source": [
        "### Implementación de Regresión Logística"
      ]
    },
    {
      "cell_type": "code",
      "execution_count": 12,
      "metadata": {},
      "outputs": [
        {
          "name": "stdout",
          "output_type": "stream",
          "text": [
            "--- Estandarizando los datos ---\n",
            "¡Datos estandarizados con éxito!\n",
            "\n",
            "--- Entrenando el modelo de Regresión Logística ---\n",
            "¡Modelo de Regresión Logística entrenado con éxito!\n",
            "\n",
            "--- Evaluación del modelo en el conjunto de prueba ---\n",
            "\n",
            "--- Reporte de Clasificación (Regresión Logística) ---\n",
            "                    precision    recall  f1-score   support\n",
            "\n",
            "  Normal (Clase 0)       1.00      1.00      1.00    111645\n",
            "Anomalía (Clase 1)       0.96      1.00      0.98      3368\n",
            "\n",
            "          accuracy                           1.00    115013\n",
            "         macro avg       0.98      1.00      0.99    115013\n",
            "      weighted avg       1.00      1.00      1.00    115013\n",
            "\n",
            "\n",
            "--- Matriz de Confusión (Regresión Logística) ---\n"
          ]
        },
        {
          "data": {
            "image/png": "[encoded data removed]",
            "text/plain": [
              "<Figure size 800x800 with 2 Axes>"
            ]
          },
          "metadata": {},
          "output_type": "display_data"
        }
      ],
      "source": [
        "from sklearn.linear_model import LogisticRegression\n",
        "from sklearn.preprocessing import StandardScaler\n",
        "from sklearn.metrics import classification_report, confusion_matrix, ConfusionMatrixDisplay\n",
        "import matplotlib.pyplot as plt\n",
        "import seaborn as sns\n",
        "\n",
        "# --- Paso Adicional: Estandarización de Datos ---\n",
        "# La Regresión Logística es sensible a la escala de las características.\n",
        "print(\"--- Estandarizando los datos ---\")\n",
        "scaler = StandardScaler()\n",
        "\n",
        "# Ajustamos el scaler SOLO con los datos de entrenamiento para evitar fuga de datos\n",
        "X_train_scaled = scaler.fit_transform(X_train)\n",
        "\n",
        "# Aplicamos la misma transformación a los datos de prueba\n",
        "X_test_scaled = scaler.transform(X_test)\n",
        "\n",
        "print(\"¡Datos estandarizados con éxito!\")\n",
        "\n",
        "\n",
        "# --- Implementación del Modelo de Regresión Logística ---\n",
        "print(\"\\n--- Entrenando el modelo de Regresión Logística ---\")\n",
        "\n",
        "# 1. Crear el modelo\n",
        "# Usamos class_weight='balanced' para que el modelo preste más atención a la clase minoritaria (Anomalía)\n",
        "log_reg_model = LogisticRegression(\n",
        "    random_state=42,\n",
        "    class_weight='balanced',\n",
        "    max_iter=1000  # Aumentamos las iteraciones para asegurar la convergencia\n",
        ")\n",
        "\n",
        "# 2. Entrenar el modelo con los datos estandarizados\n",
        "log_reg_model.fit(X_train_scaled, y_train)\n",
        "\n",
        "print(\"¡Modelo de Regresión Logística entrenado con éxito!\")\n",
        "\n",
        "\n",
        "# --- Evaluación del Modelo de Regresión Logística ---\n",
        "print(\"\\n--- Evaluación del modelo en el conjunto de prueba ---\")\n",
        "\n",
        "# 3. Hacer predicciones en el conjunto de prueba estandarizado\n",
        "y_pred_log_reg = log_reg_model.predict(X_test_scaled)\n",
        "\n",
        "# 4. Mostrar el Reporte de Clasificación\n",
        "print(\"\\n--- Reporte de Clasificación (Regresión Logística) ---\")\n",
        "print(classification_report(y_test, y_pred_log_reg, target_names=['Normal (Clase 0)', 'Anomalía (Clase 1)']))\n",
        "\n",
        "# 5. Mostrar la Matriz de Confusión\n",
        "print(\"\\n--- Matriz de Confusión (Regresión Logística) ---\")\n",
        "cm_log_reg = confusion_matrix(y_test, y_pred_log_reg)\n",
        "\n",
        "# Visualizar la matriz de confusión\n",
        "disp = ConfusionMatrixDisplay(\n",
        "    confusion_matrix=cm_log_reg,\n",
        "    display_labels=['Normal', 'Anomalía']\n",
        ")\n",
        "\n",
        "fig, ax = plt.subplots(figsize=(8, 8))\n",
        "disp.plot(ax=ax, cmap='Blues', values_format='d')\n",
        "ax.set_title('Matriz de Confusión - Regresión Logística')\n",
        "plt.show()"
      ]
    }
  ],
  "metadata": {
    "colab": {
      "provenance": []
    },
    "kernelspec": {
      "display_name": "Python 3",
      "language": "python",
      "name": "python3"
    },
    "language_info": {
      "codemirror_mode": {
        "name": "ipython",
        "version": 3
      },
      "file_extension": ".py",
      "mimetype": "text/x-python",
      "name": "python",
      "nbconvert_exporter": "python",
      "pygments_lexer": "ipython3",
      "version": "3.12.0"
    }
  },
  "nbformat": 4,
  "nbformat_minor": 0
}
